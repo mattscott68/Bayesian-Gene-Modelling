{
 "cells": [
  {
   "cell_type": "code",
   "execution_count": 1,
   "metadata": {},
   "outputs": [],
   "source": [
    "import pandas as pd\n",
    "import numpy as np\n",
    "import matplotlib.pyplot as plt\n",
    "from scipy.stats import poisson, gamma as gamma_dist, beta as beta_dist, truncnorm, bernoulli, multinomial, norm"
   ]
  },
  {
   "cell_type": "code",
   "execution_count": 2,
   "metadata": {},
   "outputs": [
    {
     "name": "stdout",
     "output_type": "stream",
     "text": [
      "[0.30970149 0.79104478 0.26492537 ... 0.75       0.84701493 0.15671642]\n",
      "(11394,)\n",
      "[388.44864865 326.89285714 982.81725888 ...  10.43283582  16.68292683\n",
      " 342.09734513]\n",
      "(11394,)\n",
      "11394\n"
     ]
    }
   ],
   "source": [
    "data_count = pd.read_csv(\"Deng_count.csv\", index_col=0)\n",
    "data_type = pd.read_csv(\"Deng_celltype.csv\", index_col=0)\n",
    "blast_cells = data_type[data_type['cell_type1'] == 'blast']\n",
    "blast_counts = data_count.loc[:, blast_cells.index]\n",
    "\n",
    "p_initial = (data_count == 0).mean(axis=1)\n",
    "mu_initial = data_count[data_count > 0].mean(axis=1)\n",
    "\n",
    "np.save(\"p_array.npy\", p_initial.values)\n",
    "np.save(\"mu_array.npy\", mu_initial.values)\n",
    "\n",
    "p = np.load(\"p_array.npy\")\n",
    "\n",
    "X = np.array(blast_counts.copy())\n",
    "\n",
    "Z = np.zeros(np.shape(X)) \n",
    "p = np.load(\"p_array.npy\")\n",
    "mu = np.load(\"mu_array.npy\")\n",
    "Z_values = []\n",
    "mu_values = []\n",
    "p_values = []\n",
    "alpha_mu_values = []\n",
    "beta_mu_values = []\n",
    "gamma_values = []\n",
    "beta_values = []\n",
    "\n",
    "# Gibbs Sampling \n",
    "G = X.shape[0]\n",
    "I = X.shape[1]\n",
    "print(p)\n",
    "print(np.shape(p))\n",
    "print(mu)\n",
    "print(np.shape(mu))\n",
    "print(G)"
   ]
  },
  {
   "cell_type": "code",
   "execution_count": null,
   "metadata": {},
   "outputs": [],
   "source": [
    "logit_p = np.log(p / (1 - p))\n",
    "mu = np.clip(mu, 0.01, None) \n",
    "log_mu = np.log(mu)\n",
    "\n",
    "mean_log_mu = np.mean(log_mu)\n",
    "mean_logit_p = np.mean(logit_p)\n",
    "\n",
    "numerator = np.sum((log_mu - mean_log_mu) * (logit_p - mean_logit_p))\n",
    "denominator = np.sum((log_mu - mean_log_mu) ** 2)\n",
    "\n",
    "beta = numerator / denominator\n",
    "\n",
    "gamma = mean_logit_p - beta * mean_log_mu\n",
    "\n",
    "\n",
    "print(f\"Slope (beta): {beta}\")\n",
    "print(f\"Intercept (gamma): {gamma}\")\n",
    "\n",
    "\n",
    "import matplotlib.pyplot as plt\n",
    "\n",
    "plt.scatter(log_mu, logit_p, color='blue', alpha=0.5, label='Data Points')\n",
    "\n",
    "predicted_logit_p = beta * log_mu + gamma\n",
    "plt.plot(log_mu, predicted_logit_p, color='red', label=f'Fit Line: {beta:.2f}*x + {gamma:.2f}')\n",
    "\n",
    "plt.xlabel('log(μ)')\n",
    "plt.ylabel('logit(p)')\n",
    "plt.legend()\n",
    "plt.show()\n"
   ]
  },
  {
   "cell_type": "code",
   "execution_count": null,
   "metadata": {},
   "outputs": [],
   "source": [
    "def indicator_sampling(X, p, mu):\n",
    "    G, I = X.shape\n",
    "    non_zero_indices = np.where(X != 0)\n",
    "    X_1 = X[non_zero_indices] * 0 \n",
    "    p_extended = np.broadcast_to(p[:, np.newaxis], (G, I)) \n",
    "    mu_extended = np.broadcast_to(mu[:, np.newaxis], (G, I))  \n",
    "    p = (1 - p_extended) * poisson.pmf(X, mu_extended)  \n",
    "    p_complement = p_extended  \n",
    "    normalized_p= np.stack([p, p_complement], axis=-1)  \n",
    "    sum_p = np.sum(normalized_p, axis=2) \n",
    "    normalized_p = normalized_p / sum_p[..., np.newaxis] \n",
    "    p = np.clip(p, 0.0001, 0.9999)\n",
    "    samples = np.apply_along_axis(lambda p: np.random.choice([0, 1], p=p), -1, normalized_p)\n",
    "    samples[non_zero_indices] = X_1\n",
    "    return samples\n"
   ]
  },
  {
   "cell_type": "code",
   "execution_count": null,
   "metadata": {},
   "outputs": [],
   "source": [
    "print(np.shape(Z))\n",
    "print(np.shape(X))\n",
    "print(mu)\n",
    "print(np.shape(mu))\n",
    "mu_extended = np.tile(mu[:, np.newaxis], (1, I))\n",
    "print(mu_extended)\n",
    "print(p)\n",
    "print(np.shape(p))"
   ]
  },
  {
   "cell_type": "markdown",
   "metadata": {},
   "source": [
    "# Function for Distribution of Parameters gamma and beta"
   ]
  },
  {
   "cell_type": "code",
   "execution_count": null,
   "metadata": {},
   "outputs": [],
   "source": [
    "def log_posterior_gamma_beta(beta_prime, Z, p, mu, X):\n",
    "    G, I = X.shape\n",
    "    mu_extended = np.tile(mu[:, np.newaxis], (1, I))\n",
    "    p_extended = np.tile(p[:, np.newaxis], (1, I))\n",
    "    total_ZIP_log_likelihood = 0\n",
    "    epsilon = 1e-5 \n",
    "    poisson_probs = np.where(Z == 0, poisson.pmf(X, mu_extended), 0)\n",
    "    clipped_poisson_probs = np.clip(poisson_probs, epsilon, 1-epsilon)\n",
    "    \n",
    "    for g in range(G):\n",
    "        for i in range(I):\n",
    "            if Z[g, i] == 0:\n",
    "                term = np.log((1 - p_extended[g, i]) * clipped_poisson_probs[g, i])\n",
    "\n",
    "            total_ZIP_log_likelihood += term\n",
    "\n",
    "    log_prior_beta_prime = gamma_dist.logpdf(beta_prime, a=3, scale=1/5)\n",
    "    \n",
    "    return total_ZIP_log_likelihood + log_prior_beta_prime"
   ]
  },
  {
   "cell_type": "markdown",
   "metadata": {},
   "source": [
    "# Function for Metropolis Hastings Sampling for Hyperpriors gamma and beta"
   ]
  },
  {
   "cell_type": "code",
   "execution_count": null,
   "metadata": {},
   "outputs": [],
   "source": [
    "def metropolis_hastings_gamma_beta(initial_gamma_beta, Z, p, mu, X, iterations, proposal_std):\n",
    "    samples = np.zeros((iterations, 2))\n",
    "    current_gamma, current_beta_prime = initial_gamma_beta\n",
    "    \n",
    "    current_logpdf = log_posterior_gamma_beta(current_beta_prime, Z, p, mu, X)\n",
    "    \n",
    "    for i in range(iterations):\n",
    "        proposed_gamma, proposed_beta_prime = np.random.normal([current_gamma, current_beta_prime], proposal_std)\n",
    "        \n",
    "        if proposed_beta_prime <= 0:\n",
    "            samples[i] = [current_gamma, current_beta_prime]\n",
    "            continue\n",
    "\n",
    "        proposed_logpdf = log_posterior_gamma_beta(proposed_beta_prime, Z, p, mu, X)\n",
    "        \n",
    "        acceptance_prob = np.exp(proposed_logpdf - current_logpdf)\n",
    "        \n",
    "        if np.random.rand() < acceptance_prob:\n",
    "            current_gamma, current_beta_prime = proposed_gamma, proposed_beta_prime\n",
    "            current_logpdf = proposed_logpdf\n",
    "            \n",
    "        samples[i] = [current_gamma, current_beta_prime]\n",
    "    return samples"
   ]
  },
  {
   "cell_type": "markdown",
   "metadata": {},
   "source": [
    "# Function for Distribution of Parameters alpha_mu and beta_mu"
   ]
  },
  {
   "cell_type": "code",
   "execution_count": null,
   "metadata": {},
   "outputs": [],
   "source": [
    "def sampling_distribution_alpha_mu_beta_mu(alpha_mu, beta_mu, mu):\n",
    "    c = 1/np.sqrt(G)\n",
    "    lamb = 2/3\n",
    "    log_alpha_mu_beta_mu = gamma_dist.logpdf(alpha_mu, c, scale=lamb)\n",
    "    log_mu_given_alpha_mu_beta_mu = np.sum(gamma_dist.logpdf(mu, alpha_mu, scale=1/beta_mu))\n",
    "    log_posterior = log_mu_given_alpha_mu_beta_mu + log_alpha_mu_beta_mu\n",
    "    return log_posterior"
   ]
  },
  {
   "cell_type": "markdown",
   "metadata": {},
   "source": [
    "# Function for Metropolis Hastings Sampling for Hyperpriors alpha_mu and beta_mu"
   ]
  },
  {
   "cell_type": "code",
   "execution_count": null,
   "metadata": {},
   "outputs": [],
   "source": [
    "def metropolis_hastings_alpha_mu_beta_mu(mu, initial_alpha_mu_beta_mu, iterations, proposal_std):\n",
    "    samples = np.zeros((iterations, 2))\n",
    "    current_alpha_mu, current_beta_mu = initial_alpha_mu_beta_mu\n",
    "    \n",
    "    current_logpdf = sampling_distribution_alpha_mu_beta_mu(current_alpha_mu, current_beta_mu, mu)\n",
    "    \n",
    "    for i in range(iterations):\n",
    "        proposed_alpha_mu, proposed_beta_mu = np.random.normal([current_alpha_mu, current_beta_mu], proposal_std)\n",
    "\n",
    "        if proposed_alpha_mu <= 0 or proposed_beta_mu <= 0:\n",
    "            samples[i] = [current_alpha_mu, current_beta_mu]\n",
    "            continue\n",
    "        \n",
    "        proposed_logpdf = sampling_distribution_alpha_mu_beta_mu(proposed_alpha_mu, proposed_beta_mu, mu)\n",
    "        \n",
    "        acceptance_prob = np.exp(proposed_logpdf - current_logpdf)\n",
    "\n",
    "        \n",
    "        if np.random.rand() < acceptance_prob:\n",
    "            current_alpha_mu = proposed_alpha_mu\n",
    "            current_beta_mu = proposed_beta_mu\n",
    "            current_logpdf = proposed_logpdf\n",
    "            \n",
    "        samples[i] = [current_alpha_mu, current_beta_mu]\n",
    "    \n",
    "    return samples"
   ]
  },
  {
   "cell_type": "markdown",
   "metadata": {},
   "source": [
    "# Function for mu parameter Sampling"
   ]
  },
  {
   "cell_type": "code",
   "execution_count": null,
   "metadata": {},
   "outputs": [],
   "source": [
    "# def log_posterior_mu_sampling(mu, X, p, k, theta, Z):\n",
    "#     G, I = X.shape\n",
    "#     mu_extended = np.tile(mu[:, np.newaxis], (1, I))\n",
    "#     p_extended = np.tile(p[:, np.newaxis], (1, I))\n",
    "#     total_ZIP_log_likelihood = 0\n",
    "#     epsilon = 1e-5 \n",
    "\n",
    "#     poisson_probs = np.where(Z == 0, poisson.pmf(X, mu_extended), 0)\n",
    "#     clipped_poisson_probs = np.clip(poisson_probs, epsilon, 1-epsilon)\n",
    "    \n",
    "#     for g in range(G):\n",
    "#         for i in range(I):\n",
    "#             if Z[g, i] == 0:\n",
    "#                 term = np.log((1 - p_extended[g, i]) * clipped_poisson_probs[g, i])\n",
    "#             else:\n",
    "#                 term = np.log(p_extended[g, i] * clipped_poisson_probs[g, i])\n",
    "\n",
    "#             total_ZIP_log_likelihood += term\n",
    "\n",
    "#     log_mu_given_k_theta = np.sum(gamma_dist.logpdf(mu, k, scale=1/theta))\n",
    "\n",
    "#     log_posterior = total_ZIP_log_likelihood + log_mu_given_k_theta\n",
    "\n",
    "#     return log_posterior"
   ]
  },
  {
   "cell_type": "markdown",
   "metadata": {},
   "source": [
    "# Function for Metropolis Hastings mu parameter Sampling"
   ]
  },
  {
   "cell_type": "code",
   "execution_count": null,
   "metadata": {},
   "outputs": [],
   "source": [
    "# def metropolis_hastings_gamma_sampling(initial_mu, X, Z, p, k, theta, iterations, proposal_std):\n",
    "#     samples = np.zeros((iterations, 1))\n",
    "#     current_mu = initial_mu\n",
    "#     print(np.shape(current_mu))\n",
    "    \n",
    "#     current_logpdf = log_posterior_mu_sampling(current_mu, X, p, k, theta, Z)\n",
    "#     print(np.shape(current_logpdf))\n",
    "    \n",
    "#     proposed_mu = np.zeros_like(current_mu)\n",
    "#     print(proposed_mu)\n",
    "#     print(np.shape(proposed_mu))\n",
    "\n",
    "#     for j in range(iterations):\n",
    "#         for i in range(len(current_mu)):\n",
    "#             proposed_mu[i] = np.random.normal(current_mu[i], proposal_std)\n",
    "            \n",
    "#             # This should handle a single mu at a time if your function expects that\n",
    "#             proposed_logpdf = log_posterior_mu_sampling(proposed_mu, X, p, k, theta, Z)\n",
    "            \n",
    "#             acceptance_prob = np.exp(proposed_logpdf - current_logpdf)\n",
    "\n",
    "#             if np.random.rand() < acceptance_prob:\n",
    "#                 current_mu[i] = proposed_mu[i]\n",
    "#                 current_logpdf = proposed_logpdf  # Update if you're considering vector updates\n",
    "\n",
    "#             samples[j, i] = current_mu[i]  # Store the current value of mu\n",
    "\n",
    "#     return samples"
   ]
  },
  {
   "cell_type": "code",
   "execution_count": null,
   "metadata": {},
   "outputs": [],
   "source": [
    "def p_calculation(mu, gamma, beta):\n",
    "    # Calculate the argument of the exponential function\n",
    "    argument = gamma + beta * np.log(mu)\n",
    "    \n",
    "    # Use the logistic function to compute p\n",
    "    p = 1 / (1 + np.exp(-argument))\n",
    "\n",
    "    return p"
   ]
  },
  {
   "cell_type": "markdown",
   "metadata": {},
   "source": [
    "# Gibbs Sampling for Everything"
   ]
  },
  {
   "cell_type": "code",
   "execution_count": null,
   "metadata": {},
   "outputs": [],
   "source": [
    "burn_in = 15\n",
    "for i in range(100): \n",
    "    Z = indicator_sampling(X, p, mu)\n",
    "    Z_values.append(Z) \n",
    "\n",
    "    # # Gamma distribution for gamma and beta\n",
    "    alpha_mu = 0.2025\n",
    "    beta_mu = 0.0005037\n",
    "    initial_gamma = 3.179\n",
    "    initial_beta = -0.6266\n",
    "    initial_beta_prime = -initial_beta\n",
    "    initial_gamma_beta = [initial_gamma, initial_beta_prime]\n",
    "    proposal_std = [initial_gamma/10, initial_beta_prime/100] \n",
    "    iterations = 100\n",
    "    samples = metropolis_hastings_gamma_beta(initial_gamma_beta, Z, p, mu, X, iterations, proposal_std)\n",
    "    gamma = samples[iterations-1, 0]\n",
    "    beta_prime = samples[iterations-1, 1]\n",
    "    beta = -beta_prime\n",
    "\n",
    "\n",
    "    # Gamma distribution for alpha_mu and beta_mu\n",
    "    initial_gamma_sampling = [alpha_mu, beta_mu]\n",
    "    proposal_std = [0.01/10, 10**(-5)] \n",
    "    iterations = 100\n",
    "    samples = metropolis_hastings_alpha_mu_beta_mu(mu, initial_gamma_sampling, iterations, proposal_std)\n",
    "    alpha_mu = samples[iterations-1, 0]\n",
    "    beta_mu = samples[iterations-1, 1]\n",
    "\n",
    "    c_values = []\n",
    "    d_values = []\n",
    "    for g in range(G):\n",
    "        c = np.dot(X[g], 1-Z[g])\n",
    "        d = np.sum(Z[g, :] == 0)\n",
    "        c_values.append(c)\n",
    "        d_values.append(d)\n",
    "        mu[g] = np.random.gamma(alpha_mu + c, scale=1/(beta_mu + d))\n",
    "    \n",
    "    p = p_calculation(mu, gamma, beta)\n",
    "\n",
    "    if i >= burn_in:\n",
    "        alpha_mu_values.append(alpha_mu)\n",
    "        beta_mu_values.append(beta_mu)\n",
    "        gamma_values.append(gamma)\n",
    "        beta_values.append(beta)\n",
    "        p_values.append(p.copy()) \n",
    "        mu_values.append(mu.copy()) \n",
    "\n",
    "    print(\"Completed iteration\", i)\n"
   ]
  },
  {
   "cell_type": "code",
   "execution_count": null,
   "metadata": {},
   "outputs": [],
   "source": [
    "# np.save('mu_values.npy', mu_values)        \n",
    "# np.save('p_values.npy', p_values)       \n",
    "# np.save('alpha_mu_values.npy', alpha_mu_values) \n",
    "# np.save('beta_mu_values.npy', beta_mu_values)  \n",
    "# np.save('gamma_values.npy', gamma_values)         \n",
    "# np.save('beta_values.npy', beta_values) "
   ]
  },
  {
   "cell_type": "code",
   "execution_count": 3,
   "metadata": {},
   "outputs": [],
   "source": [
    "mu_values = np.load('mu_values.npy')\n",
    "p_values = np.load('p_values.npy')\n",
    "alpha_mu_values = np.load('alpha_mu_values.npy')\n",
    "beta_mu_values = np.load('beta_mu_values.npy')\n",
    "gamma_values = np.load('gamma_values.npy')\n",
    "beta_values = np.load('beta_values.npy')"
   ]
  },
  {
   "cell_type": "code",
   "execution_count": 4,
   "metadata": {},
   "outputs": [
    {
     "name": "stdout",
     "output_type": "stream",
     "text": [
      "[[1.78188757e+02 7.56470222e+00 2.26299991e+02 ... 1.39672210e+00\n",
      "  1.20984578e+00 4.64101526e+02]\n",
      " [1.77732695e+02 7.20509865e+00 2.28743225e+02 ... 1.52623866e+00\n",
      "  8.53420011e-01 4.67477635e+02]\n",
      " [1.73760075e+02 5.03901217e+00 2.29651545e+02 ... 1.46206234e+00\n",
      "  2.06956438e+00 4.69526964e+02]\n",
      " ...\n",
      " [1.77278623e+02 4.79728192e+00 2.27154662e+02 ... 1.35067740e+00\n",
      "  7.38259575e-01 4.65389692e+02]\n",
      " [1.78855028e+02 1.09823539e+00 2.25475000e+02 ... 3.71453581e-01\n",
      "  1.69712377e-01 4.65879286e+02]\n",
      " [1.77465932e+02 7.50700486e+00 2.25333650e+02 ... 1.85659163e+00\n",
      "  1.40661334e+00 4.64319544e+02]]\n",
      "(85, 11394)\n",
      "[[0.40720474 0.82321968 0.37277657 ... 0.9283547  0.93393062 0.27779715]\n",
      " [0.99871474 0.99981088 0.99850567 ... 0.99992525 0.9999472  0.99771029]\n",
      " [0.03410984 0.25545401 0.02867684 ... 0.43165978 0.37795317 0.0183095 ]\n",
      " ...\n",
      " [0.00313388 0.02674934 0.00270147 ... 0.05557618 0.07798984 0.00175754]\n",
      " [0.99661755 0.99986656 0.99608332 ... 0.99993299 0.99995926 0.99380297]\n",
      " [0.69849996 0.93731175 0.66805053 ... 0.97148742 0.9756866  0.56786605]]\n",
      "(85, 11394)\n",
      "[0.24241804 0.23487962 0.23920762 0.24570988 0.24019407 0.24780527\n",
      " 0.24194448 0.24631274 0.23936886 0.2307311  0.235138   0.23879073\n",
      " 0.24056923 0.2301282  0.24860948 0.23678537 0.24285585 0.24119253\n",
      " 0.23646491 0.23665641 0.24900801 0.23827539 0.23543821 0.23938197\n",
      " 0.24164117 0.23889031 0.23827865 0.23127689 0.23903966 0.23697623\n",
      " 0.25185312 0.2452654  0.23480624 0.23654781 0.24584605 0.24620371\n",
      " 0.23859861 0.23230493 0.2331132  0.23789561 0.23902316 0.24404412\n",
      " 0.24346162 0.24306716 0.24199194 0.24464812 0.24808722 0.23459324\n",
      " 0.23407758 0.24069596 0.2389634  0.24178874 0.24641589 0.24706996\n",
      " 0.23869829 0.23851118 0.2436663  0.24120037 0.23796918 0.2392036\n",
      " 0.24794624 0.23202605 0.23790216 0.24996429 0.22834561 0.22816906\n",
      " 0.2505612  0.23611343 0.24261638 0.23831113 0.25074029 0.23297226\n",
      " 0.23698605 0.23580821 0.24855985 0.23651527 0.22971559 0.23601929\n",
      " 0.24416925 0.23952716 0.24685103 0.24452283 0.24020297 0.24254971\n",
      " 0.2306899 ]\n",
      "[0.00054051 0.00061234 0.00069187 0.00060547 0.00061323 0.00062953\n",
      " 0.00061867 0.00066377 0.00060823 0.00056031 0.00065451 0.00058456\n",
      " 0.00063707 0.00063546 0.00067867 0.00055955 0.00059833 0.00070678\n",
      " 0.00058207 0.00061009 0.00063644 0.00053722 0.00060139 0.00065906\n",
      " 0.00059253 0.00058781 0.0005408  0.00060542 0.00062172 0.00058523\n",
      " 0.00064862 0.00073    0.00064299 0.00068865 0.00060598 0.00069365\n",
      " 0.00060702 0.00062425 0.00056532 0.00052883 0.00064431 0.00051784\n",
      " 0.00058216 0.00059933 0.00060676 0.00067988 0.00060304 0.00059029\n",
      " 0.00057698 0.00067691 0.00063237 0.00061687 0.00064125 0.00057394\n",
      " 0.00061982 0.00054603 0.00070201 0.00067168 0.00058788 0.00068242\n",
      " 0.00067924 0.0006463  0.00061627 0.00054638 0.00060954 0.00057964\n",
      " 0.00058011 0.00058929 0.00060488 0.00064017 0.00062527 0.0006992\n",
      " 0.00062187 0.00064276 0.000601   0.00052563 0.00059227 0.00062941\n",
      " 0.00061204 0.00059782 0.00064553 0.00073369 0.0006015  0.00055267\n",
      " 0.00058993]\n",
      "[ 2.7640921   9.75418905 -0.03113926  6.70305833  2.8814414   1.18146212\n",
      "  3.40134025  2.89572959  4.30607026 -1.95695714  3.78684656  2.65273\n",
      "  2.29766546  3.75975435 -1.33545664 -0.28451108  5.72882705  4.38439927\n",
      " 10.15368441  4.55635195  3.91355301  3.67267902 -1.03652268  3.3816264\n",
      "  1.04621674  2.69417634  7.08556604 -2.26202914  0.42977918  7.68454247\n",
      "  1.74501633  5.36380958  0.30420153  0.97628192  0.17138406  1.01657609\n",
      " -1.3477109   0.39337733  1.33685796 -0.15645536  0.64109505 -0.52236571\n",
      " -0.16113573  3.981727   -0.77698504 -2.01831227  1.05729207  3.94954075\n",
      "  2.83999936  2.41705347  1.95505949  5.94992452  0.03864341  7.16053386\n",
      " -1.34388262  4.61990247  1.87940416  2.92824392  4.54742241  6.25678211\n",
      "  5.66274081  3.96162301  7.35308811  2.11515726  4.07372142  4.5157102\n",
      "  7.2797412   0.5345417   0.14828921  7.77869659 -0.51557546  5.17991326\n",
      "  2.87182617 -1.17501049 -0.52157708  0.73083929  1.93695005 -1.30960563\n",
      "  2.05566044  2.05187543 -2.01242806  1.33282126 -2.65225603  8.98129424\n",
      "  3.8932556 ]\n",
      "[-0.6057727  -0.5981684  -0.64221276 -0.66256122 -0.63957312 -0.64987583\n",
      " -0.63135565 -0.58094825 -0.67651136 -0.63596639 -0.74652082 -0.64560892\n",
      " -0.64239565 -0.59206951 -0.59121342 -0.76210109 -0.73402739 -0.60585673\n",
      " -0.65404255 -0.56894325 -0.68727442 -0.69789333 -0.65075824 -0.71516324\n",
      " -0.57443708 -0.61852868 -0.77258064 -0.62152565 -0.53234952 -0.55178801\n",
      " -0.6379461  -0.66120454 -0.51817232 -0.62546886 -0.76821182 -0.68521083\n",
      " -0.50225923 -0.56025925 -0.60104317 -0.61278809 -0.67190905 -0.67449984\n",
      " -0.60563459 -0.67795277 -0.62150988 -0.70886546 -0.57924249 -0.59928918\n",
      " -0.60279927 -0.61575371 -0.57552669 -0.73219274 -0.61116332 -0.51174841\n",
      " -0.60434147 -0.5766268  -0.63516811 -0.68312789 -0.60665026 -0.78256493\n",
      " -0.63665952 -0.71420653 -0.62757933 -0.63306832 -0.69552952 -0.68253686\n",
      " -0.59093235 -0.66268122 -0.65552724 -0.67125504 -0.59186069 -0.7621277\n",
      " -0.70828156 -0.61228712 -0.66174616 -0.68965168 -0.68224232 -0.63364251\n",
      " -0.62155719 -0.56055969 -0.58962682 -0.57376312 -0.60066721 -0.63539576\n",
      " -0.58953874]\n"
     ]
    },
    {
     "data": {
      "image/png": "[encoded data removed]",
      "text/plain": [
       "<Figure size 1000x1000 with 6 Axes>"
      ]
     },
     "metadata": {},
     "output_type": "display_data"
    }
   ],
   "source": [
    "print(mu_values)\n",
    "print(np.shape(mu_values))\n",
    "print(p_values)\n",
    "print(np.shape(p_values))\n",
    "print(alpha_mu_values)\n",
    "print(beta_mu_values)\n",
    "print(gamma_values)\n",
    "print(beta_values)\n",
    "\n",
    "\n",
    "fig, axs = plt.subplots(3, 2, figsize=(10, 10))\n",
    "axs[0, 0].hist(mu[30:], 100)\n",
    "axs[0, 0].set_title(\"Mu_g Values\")\n",
    "axs[0, 1].hist(p[30:], 100)\n",
    "axs[0, 1].set_title(\"P_g values\")\n",
    "axs[1, 0].hist(alpha_mu_values, 100)\n",
    "axs[1, 0].set_title(\"alpha_mu Parameters for Gamma Distribution\")\n",
    "axs[1, 1].hist(beta_mu_values, 100)\n",
    "axs[1, 1].set_title(\"beta_mu Parameters for Gamma Distribution\")\n",
    "axs[2, 0].hist(gamma_values, 100)\n",
    "axs[2, 0].set_title(\"Gamma Parameters Distribution\")\n",
    "axs[2, 1].hist(beta_values, 100)\n",
    "axs[2, 1].set_title(\"Beta Parameters Distribution\")\n",
    "plt.tight_layout()\n",
    "plt.show()"
   ]
  },
  {
   "cell_type": "code",
   "execution_count": 15,
   "metadata": {},
   "outputs": [
    {
     "name": "stdout",
     "output_type": "stream",
     "text": [
      "Mean of mu: 331.7833484944705\n",
      "Mean of p: 0.6923537290478575\n",
      "Mean of alpha_mu: 0.2400160683820293\n",
      "Mean of beta_mu: 0.0006165664739332109\n",
      "Mean of gamma: 2.5139263429667285\n",
      "Mean of beta: -0.6378832831099189\n"
     ]
    }
   ],
   "source": [
    "print(f\"Mean of mu: {np.mean(mu)}\")\n",
    "print(f\"Mean of p: {np.mean(p)}\")\n",
    "print(f\"Mean of alpha_mu: {np.mean(alpha_mu_values)}\")\n",
    "print(f\"Mean of beta_mu: {np.mean(beta_mu_values)}\")\n",
    "print(f\"Mean of gamma: {np.mean(gamma_values)}\")\n",
    "print(f\"Mean of beta: {np.mean(beta_values)}\")"
   ]
  },
  {
   "cell_type": "code",
   "execution_count": 6,
   "metadata": {},
   "outputs": [
    {
     "name": "stdout",
     "output_type": "stream",
     "text": [
      "Standard Deviation of alpha_mu: 0.005552501719685396\n",
      "Standard Deviation of beta_mu: 4.6868242944329644e-05\n",
      "Standard Deviation of gamma: 2.9460024924111448\n",
      "Standard Deviation of beta: 0.05989340175703362\n"
     ]
    }
   ],
   "source": [
    "print(f\"Standard Deviation of alpha_mu: {np.std(alpha_mu_values)}\")\n",
    "print(f\"Standard Deviation of beta_mu: {np.std(beta_mu_values)}\")\n",
    "print(f\"Standard Deviation of gamma: {np.std(gamma_values)}\")\n",
    "print(f\"Standard Deviation of beta: {np.std(beta_values)}\")\n"
   ]
  },
  {
   "cell_type": "code",
   "execution_count": 17,
   "metadata": {},
   "outputs": [],
   "source": [
    "mu = mu_values[-1]\n",
    "p = p_values[-1]"
   ]
  },
  {
   "cell_type": "code",
   "execution_count": 18,
   "metadata": {},
   "outputs": [
    {
     "name": "stdout",
     "output_type": "stream",
     "text": [
      "The model's prediction for the mean is: 332.13043927883353\n",
      "The model's prediction for the zero probability is: 0.6923537290478575\n",
      "332.0669784961449\n",
      "0.4643564038679693\n",
      "Convergence not yet achieved.\n",
      "Predictive Mean Difference: 0.06346078268865085, Predictive Zero Probability Difference: 0.22799732517988824\n"
     ]
    }
   ],
   "source": [
    "initial_data_mean = data_count.mean().mean()\n",
    "\n",
    "initial_zero_probability = (data_count == 0).mean().mean()\n",
    "\n",
    "def compute_posterior_predictive_stats(p, mu):\n",
    "    predictive_mean = np.mean(mu)\n",
    "    predictive_zero_prob = np.mean(p)\n",
    "    return predictive_mean, predictive_zero_prob\n",
    "\n",
    "def check_convergence(p, mu, data_count, initial_data_mean, initial_zero_probability, tolerance_mean = 30, tolerance_prob=0.1):\n",
    "    predictive_mean, predictive_zero_prob = compute_posterior_predictive_stats(p, mu)\n",
    "    mean_diff = abs(predictive_mean - initial_data_mean)\n",
    "    zero_prob_diff = abs(predictive_zero_prob - initial_zero_probability)\n",
    "    print(f\"The model's prediction for the mean is: {predictive_mean}\")\n",
    "    print(f\"The model's prediction for the zero probability is: {predictive_zero_prob}\")\n",
    "    print(initial_data_mean)\n",
    "    print(initial_zero_probability)\n",
    "    if mean_diff < tolerance_mean and zero_prob_diff < tolerance_prob:\n",
    "        print(\"Convergence likely achieved.\")\n",
    "        print(f\"Predictive Mean Difference: {mean_diff}, Predictive Zero Probability Difference: {zero_prob_diff}\")\n",
    "    else:\n",
    "        print(\"Convergence not yet achieved.\")\n",
    "        print(f\"Predictive Mean Difference: {mean_diff}, Predictive Zero Probability Difference: {zero_prob_diff}\")\n",
    "\n",
    "check_convergence(p, mu, data_count, initial_data_mean, initial_zero_probability)"
   ]
  },
  {
   "cell_type": "code",
   "execution_count": 21,
   "metadata": {},
   "outputs": [
    {
     "name": "stdout",
     "output_type": "stream",
     "text": [
      "The model's prediction for the mean is: 158.96271213037804\n",
      "The model's prediction for the zero probability is: 0.6926612906495588\n",
      "253.64257800900356\n",
      "0.4962412613946663\n",
      "Convergence not yet achieved.\n",
      "Predictive Mean Difference: 94.67986587862552, Predictive Zero Probability Difference: 0.19642002925489255\n"
     ]
    }
   ],
   "source": [
    "G = data_count.shape[0]\n",
    "N0 = blast_counts.shape[1]\n",
    "\n",
    "# Initial data mean\n",
    "initial_data_mean = blast_counts.mean().mean()\n",
    "\n",
    "# Probability that the data is 0\n",
    "initial_zero_probability = (blast_counts == 0).mean().mean()\n",
    "\n",
    "def compute_posterior_predictive_stats(p, mu):\n",
    "    predictive_mean = np.mean(mu * (1 - p))\n",
    "    predictive_zero_prob = np.mean(p + (1 - p) * np.exp(-mu))\n",
    "    return predictive_mean, predictive_zero_prob\n",
    "\n",
    "def check_convergence(p, mu, data_count, initial_data_mean, initial_zero_probability, tolerance_mean = 30, tolerance_prob=0.01):\n",
    "    predictive_mean, predictive_zero_prob = compute_posterior_predictive_stats(p, mu)\n",
    "    mean_diff = abs(predictive_mean - initial_data_mean)\n",
    "    zero_prob_diff = abs(predictive_zero_prob - initial_zero_probability)\n",
    "    print(f\"The model's prediction for the mean is: {predictive_mean}\")\n",
    "    print(f\"The model's prediction for the zero probability is: {predictive_zero_prob}\")\n",
    "    print(initial_data_mean)\n",
    "    print(initial_zero_probability)\n",
    "    if mean_diff < tolerance_mean and zero_prob_diff < tolerance_prob:\n",
    "        print(\"Convergence likely achieved.\")\n",
    "        print(f\"Predictive Mean Difference: {mean_diff}, Predictive Zero Probability Difference: {zero_prob_diff}\")\n",
    "    else:\n",
    "        print(\"Convergence not yet achieved.\")\n",
    "        print(f\"Predictive Mean Difference: {mean_diff}, Predictive Zero Probability Difference: {zero_prob_diff}\")\n",
    "\n",
    "check_convergence(p, mu, data_count, initial_data_mean, initial_zero_probability)"
   ]
  }
 ],
 "metadata": {
  "kernelspec": {
   "display_name": "base",
   "language": "python",
   "name": "python3"
  },
  "language_info": {
   "codemirror_mode": {
    "name": "ipython",
    "version": 3
   },
   "file_extension": ".py",
   "mimetype": "text/x-python",
   "name": "python",
   "nbconvert_exporter": "python",
   "pygments_lexer": "ipython3",
   "version": "3.11.5"
  }
 },
 "nbformat": 4,
 "nbformat_minor": 2
}
