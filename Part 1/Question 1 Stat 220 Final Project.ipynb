{
 "cells": [
  {
   "cell_type": "markdown",
   "metadata": {},
   "source": [
    "# Initializing All Paramters"
   ]
  },
  {
   "cell_type": "code",
   "execution_count": 1,
   "metadata": {},
   "outputs": [
    {
     "name": "stdout",
     "output_type": "stream",
     "text": [
      "[0.30970149 0.79104478 0.26492537 ... 0.75       0.84701493 0.15671642]\n",
      "(11394,)\n",
      "[388.44864865 326.89285714 982.81725888 ...  10.43283582  16.68292683\n",
      " 342.09734513]\n",
      "(11394,)\n"
     ]
    }
   ],
   "source": [
    "import pandas as pd\n",
    "import numpy as np\n",
    "import matplotlib.pyplot as plt\n",
    "from scipy.stats import poisson, gamma as gamma_dist, beta as beta_dist, truncnorm\n",
    "from scipy.special import polygamma\n",
    "\n",
    "# Load data\n",
    "data_count = pd.read_csv(\"Deng_count.csv\", index_col=0)\n",
    "data_type = pd.read_csv(\"Deng_celltype.csv\", index_col=0)\n",
    "blast_cells = data_type[data_type['cell_type1'] == 'blast']\n",
    "blast_counts = data_count.loc[:, blast_cells.index]\n",
    "\n",
    "p_initial = (data_count == 0).mean(axis=1)\n",
    "mu_initial = data_count[data_count > 0].mean(axis=1)\n",
    "\n",
    "np.save(\"p_array.npy\", p_initial.values)\n",
    "np.save(\"mu_array.npy\", mu_initial.values)\n",
    "\n",
    "p = np.load(\"p_array.npy\")\n",
    "p = np.clip(p, 0.01, 0.99)\n",
    "np.save(\"p_array_clipped.npy\", p)\n",
    "\n",
    "X = np.array(blast_counts.copy())\n",
    "\n",
    "Z = np.zeros(np.shape(X)) \n",
    "p = np.load(\"p_array_clipped.npy\")\n",
    "mu = np.load(\"mu_array.npy\")\n",
    "Z_values = []\n",
    "mu_values = []\n",
    "p_values = []\n",
    "alpha_values = []\n",
    "beta_values = []\n",
    "k_values = []\n",
    "theta_values = []\n",
    "\n",
    "# Gibbs Sampling \n",
    "G = X.shape[0]\n",
    "I = X.shape[1]\n",
    "print(p)\n",
    "print(np.shape(p))\n",
    "print(mu)\n",
    "print(np.shape(mu))"
   ]
  },
  {
   "cell_type": "markdown",
   "metadata": {},
   "source": [
    "# Function for Indicator Sampling Z"
   ]
  },
  {
   "cell_type": "code",
   "execution_count": 2,
   "metadata": {},
   "outputs": [],
   "source": [
    "def indicator_sampling(X, p, mu):\n",
    "    G, I = X.shape\n",
    "    non_zero_indices = np.where(X != 0)\n",
    "    X_1 = X[non_zero_indices] * 0 \n",
    "    p_extended = np.broadcast_to(p[:, np.newaxis], (G, I)) \n",
    "    mu_extended = np.broadcast_to(mu[:, np.newaxis], (G, I))  \n",
    "    p = (1 - p_extended) * poisson.pmf(X, mu_extended)  \n",
    "    p_complement = p_extended  \n",
    "    normalized_p= np.stack([p, p_complement], axis=-1)  \n",
    "    sum_p = np.sum(normalized_p, axis=2) \n",
    "    normalized_p = normalized_p / sum_p[..., np.newaxis] \n",
    "    samples = np.apply_along_axis(lambda p: np.random.choice([0, 1], p=p), -1, normalized_p)\n",
    "    samples[non_zero_indices] = X_1\n",
    "    return samples\n",
    "\n"
   ]
  },
  {
   "cell_type": "markdown",
   "metadata": {},
   "source": [
    "# Function for Distribution of Hyperpriors alpha_g and beta_g"
   ]
  },
  {
   "cell_type": "code",
   "execution_count": 3,
   "metadata": {},
   "outputs": [],
   "source": [
    "def log_beta_dist(alpha, beta):\n",
    "    if alpha <= 0 or beta <= 0:\n",
    "        return -np.inf \n",
    "    log_hyperprior = -2.5 * np.log(alpha + beta) \n",
    "    log_likelihood = np.sum(beta_dist.logpdf(p, alpha, beta))\n",
    "    log_posterior_pdf = log_hyperprior + log_likelihood\n",
    "    return log_posterior_pdf"
   ]
  },
  {
   "cell_type": "markdown",
   "metadata": {},
   "source": [
    "# Function for Metropolis Hastings Sampling for Hyperpriors alpha_g and beta_g"
   ]
  },
  {
   "cell_type": "code",
   "execution_count": 4,
   "metadata": {},
   "outputs": [],
   "source": [
    "def metropolis_hastings_alpha_beta(iterations, initial_alpha, initial_beta, proposal_sd):\n",
    "    samples = np.zeros((iterations, 2)) \n",
    "    current_alpha = initial_alpha\n",
    "    current_beta = initial_beta\n",
    "\n",
    "    current_posterior = log_beta_dist(current_alpha, current_beta)  # Calculate only once initially\n",
    "\n",
    "    for i in range(iterations):\n",
    "        proposed_alpha = np.random.normal(current_alpha, proposal_sd)\n",
    "        proposed_beta = np.random.normal(current_beta, proposal_sd)\n",
    "        \n",
    "        if proposed_alpha <= 0 or proposed_beta <= 0:\n",
    "            samples[i] = [current_alpha, current_beta]  # Record current values if proposed are invalid\n",
    "            continue\n",
    "\n",
    "        proposed_posterior = log_beta_dist(proposed_alpha, proposed_beta)\n",
    "        acceptance_probability = np.exp(proposed_posterior - current_posterior)\n",
    "\n",
    "        if acceptance_probability > np.random.rand():\n",
    "            current_alpha = proposed_alpha\n",
    "            current_beta = proposed_beta\n",
    "            current_posterior = proposed_posterior\n",
    "\n",
    "        samples[i] = [current_alpha, current_beta]\n",
    "\n",
    "    return samples"
   ]
  },
  {
   "cell_type": "markdown",
   "metadata": {},
   "source": [
    "# Function for Distribution of Hyperpriors alpha_mu and beta_mu"
   ]
  },
  {
   "cell_type": "code",
   "execution_count": 5,
   "metadata": {},
   "outputs": [],
   "source": [
    "def sampling_distribution_k_theta(k, theta, mu):\n",
    "    c = 1/np.sqrt(G)\n",
    "    lamb = 2/3\n",
    "    log_k_theta = gamma_dist.logpdf(k, c, scale=lamb)\n",
    "    log_mu_given_k_theta = np.sum(gamma_dist.logpdf(mu, k, scale=1/theta))\n",
    "    log_posterior = log_mu_given_k_theta + log_k_theta\n",
    "    return log_posterior"
   ]
  },
  {
   "cell_type": "markdown",
   "metadata": {},
   "source": [
    "# Function for Metropolis Hastings Sampling for Hyperpriors k_g and theta_g"
   ]
  },
  {
   "cell_type": "code",
   "execution_count": 6,
   "metadata": {},
   "outputs": [],
   "source": [
    "def metropolis_hastings_k_theta(mu, initial_k_theta, iterations, proposal_std):\n",
    "    samples = np.zeros((iterations, 2))\n",
    "    current_k, current_theta = initial_k_theta\n",
    "    \n",
    "    current_logpdf = sampling_distribution_k_theta(current_k, current_theta, mu)\n",
    "    \n",
    "    for i in range(iterations):\n",
    "        proposed_k, proposed_theta = np.random.normal([current_k, current_theta], proposal_std)\n",
    "\n",
    "        if proposed_k <= 0 or proposed_theta <= 0:\n",
    "            samples[i] = [current_k, current_theta]\n",
    "            continue\n",
    "        \n",
    "        proposed_logpdf = sampling_distribution_k_theta(proposed_k, proposed_theta, mu)\n",
    "        \n",
    "        acceptance_prob = np.exp(proposed_logpdf - current_logpdf)\n",
    "\n",
    "        \n",
    "        if np.random.rand() < acceptance_prob:\n",
    "            current_k = proposed_k\n",
    "            current_theta = proposed_theta\n",
    "            current_logpdf = proposed_logpdf\n",
    "            \n",
    "        samples[i] = [current_k, current_theta]\n",
    "    \n",
    "    return samples"
   ]
  },
  {
   "cell_type": "markdown",
   "metadata": {},
   "source": [
    "# Gibbs Sampling for Everything"
   ]
  },
  {
   "cell_type": "code",
   "execution_count": 7,
   "metadata": {},
   "outputs": [
    {
     "name": "stderr",
     "output_type": "stream",
     "text": [
      "C:\\Users\\darkr\\AppData\\Local\\Temp\\ipykernel_62036\\3722901801.py:16: RuntimeWarning: overflow encountered in exp\n",
      "  acceptance_prob = np.exp(proposed_logpdf - current_logpdf)\n"
     ]
    },
    {
     "name": "stdout",
     "output_type": "stream",
     "text": [
      "Completed iteration 0\n",
      "Completed iteration 1\n",
      "Completed iteration 2\n",
      "Completed iteration 3\n",
      "Completed iteration 4\n",
      "Completed iteration 5\n",
      "Completed iteration 6\n",
      "Completed iteration 7\n",
      "Completed iteration 8\n",
      "Completed iteration 9\n",
      "Completed iteration 10\n",
      "Completed iteration 11\n",
      "Completed iteration 12\n",
      "Completed iteration 13\n",
      "Completed iteration 14\n",
      "Completed iteration 15\n",
      "Completed iteration 16\n",
      "Completed iteration 17\n",
      "Completed iteration 18\n",
      "Completed iteration 19\n",
      "Completed iteration 20\n",
      "Completed iteration 21\n",
      "Completed iteration 22\n",
      "Completed iteration 23\n",
      "Completed iteration 24\n",
      "Completed iteration 25\n",
      "Completed iteration 26\n",
      "Completed iteration 27\n",
      "Completed iteration 28\n",
      "Completed iteration 29\n",
      "Completed iteration 30\n",
      "Completed iteration 31\n",
      "Completed iteration 32\n",
      "Completed iteration 33\n",
      "Completed iteration 34\n",
      "Completed iteration 35\n",
      "Completed iteration 36\n",
      "Completed iteration 37\n",
      "Completed iteration 38\n",
      "Completed iteration 39\n",
      "Completed iteration 40\n",
      "Completed iteration 41\n",
      "Completed iteration 42\n",
      "Completed iteration 43\n",
      "Completed iteration 44\n",
      "Completed iteration 45\n",
      "Completed iteration 46\n",
      "Completed iteration 47\n",
      "Completed iteration 48\n",
      "Completed iteration 49\n",
      "Completed iteration 50\n",
      "Completed iteration 51\n",
      "Completed iteration 52\n",
      "Completed iteration 53\n",
      "Completed iteration 54\n",
      "Completed iteration 55\n",
      "Completed iteration 56\n",
      "Completed iteration 57\n",
      "Completed iteration 58\n",
      "Completed iteration 59\n",
      "Completed iteration 60\n",
      "Completed iteration 61\n",
      "Completed iteration 62\n",
      "Completed iteration 63\n",
      "Completed iteration 64\n",
      "Completed iteration 65\n",
      "Completed iteration 66\n",
      "Completed iteration 67\n",
      "Completed iteration 68\n",
      "Completed iteration 69\n",
      "Completed iteration 70\n",
      "Completed iteration 71\n",
      "Completed iteration 72\n",
      "Completed iteration 73\n",
      "Completed iteration 74\n",
      "Completed iteration 75\n",
      "Completed iteration 76\n",
      "Completed iteration 77\n",
      "Completed iteration 78\n",
      "Completed iteration 79\n",
      "Completed iteration 80\n",
      "Completed iteration 81\n",
      "Completed iteration 82\n",
      "Completed iteration 83\n",
      "Completed iteration 84\n",
      "Completed iteration 85\n",
      "Completed iteration 86\n",
      "Completed iteration 87\n",
      "Completed iteration 88\n",
      "Completed iteration 89\n",
      "Completed iteration 90\n",
      "Completed iteration 91\n",
      "Completed iteration 92\n",
      "Completed iteration 93\n",
      "Completed iteration 94\n",
      "Completed iteration 95\n",
      "Completed iteration 96\n",
      "Completed iteration 97\n",
      "Completed iteration 98\n",
      "Completed iteration 99\n",
      "Completed iteration 100\n",
      "Completed iteration 101\n",
      "Completed iteration 102\n",
      "Completed iteration 103\n",
      "Completed iteration 104\n",
      "Completed iteration 105\n",
      "Completed iteration 106\n",
      "Completed iteration 107\n",
      "Completed iteration 108\n",
      "Completed iteration 109\n",
      "Completed iteration 110\n",
      "Completed iteration 111\n",
      "Completed iteration 112\n",
      "Completed iteration 113\n",
      "Completed iteration 114\n",
      "Completed iteration 115\n",
      "Completed iteration 116\n",
      "Completed iteration 117\n",
      "Completed iteration 118\n",
      "Completed iteration 119\n",
      "Completed iteration 120\n",
      "Completed iteration 121\n",
      "Completed iteration 122\n",
      "Completed iteration 123\n",
      "Completed iteration 124\n",
      "Completed iteration 125\n",
      "Completed iteration 126\n",
      "Completed iteration 127\n",
      "Completed iteration 128\n",
      "Completed iteration 129\n",
      "Completed iteration 130\n",
      "Completed iteration 131\n",
      "Completed iteration 132\n",
      "Completed iteration 133\n",
      "Completed iteration 134\n",
      "Completed iteration 135\n",
      "Completed iteration 136\n",
      "Completed iteration 137\n",
      "Completed iteration 138\n",
      "Completed iteration 139\n",
      "Completed iteration 140\n",
      "Completed iteration 141\n",
      "Completed iteration 142\n",
      "Completed iteration 143\n",
      "Completed iteration 144\n",
      "Completed iteration 145\n",
      "Completed iteration 146\n",
      "Completed iteration 147\n",
      "Completed iteration 148\n",
      "Completed iteration 149\n"
     ]
    }
   ],
   "source": [
    "burn_in = 15\n",
    "for i in range(150): \n",
    "    Z = indicator_sampling(X, p, mu)\n",
    "    Z_values.append(Z) \n",
    "          \n",
    "    initial_alpha = 1\n",
    "    initial_beta = 1\n",
    "    iterations = 500\n",
    "    proposal_sd = 0.1\n",
    "    list_beta_sampling = metropolis_hastings_alpha_beta(iterations, initial_alpha, initial_beta, proposal_sd)\n",
    "    alpha = list_beta_sampling[iterations-1, 0]\n",
    "    beta = list_beta_sampling[iterations-1, 1]\n",
    "\n",
    "    initial_gamma_sampling = [0.01, 10**(-4)]  \n",
    "    proposal_std = [0.01/10, 10**(-5)] \n",
    "    iterations = 500\n",
    "    samples = metropolis_hastings_k_theta(mu, initial_gamma_sampling, iterations, proposal_std)\n",
    "    k = samples[iterations-1, 0]\n",
    "    theta = samples[iterations-1, 1]\n",
    "    \n",
    "    # Samping for Beta distribution for p_g\n",
    "    for g in range(G):\n",
    "        n = np.sum(Z[g, :] == 1)\n",
    "        p[g] = np.random.beta(alpha + n, beta + I - n)\n",
    "\n",
    "    # Sampling for Gamma distribution for mu_g\n",
    "    c_values = []\n",
    "    d_values = []\n",
    "    for g in range(G):\n",
    "        c = np.dot(X[g], 1-Z[g])\n",
    "        d = np.sum(Z[g, :] == 0)\n",
    "        mu[g] = np.random.gamma(k + c, scale=1/(theta + d))\n",
    "\n",
    "\n",
    "    if i >= burn_in:\n",
    "        alpha_values.append(alpha)\n",
    "        beta_values.append(beta)\n",
    "        k_values.append(k)\n",
    "        theta_values.append(theta)\n",
    "        p_values.append(p.copy()) \n",
    "        mu_values.append(mu.copy()) \n",
    "\n",
    "    print(\"Completed iteration\", i)\n"
   ]
  },
  {
   "cell_type": "code",
   "execution_count": 8,
   "metadata": {},
   "outputs": [],
   "source": [
    "# np.save('mu_values.npy', mu_values)        \n",
    "# np.save('p_values.npy', p_values)       \n",
    "# np.save('alpha_p_values.npy', alpha_values) \n",
    "# np.save('beta_p_values.npy', beta_values)  \n",
    "# np.save('alpha_mu_values.npy', k_values)         \n",
    "# np.save('beta_mu_values.npy', theta_values) "
   ]
  },
  {
   "cell_type": "code",
   "execution_count": 17,
   "metadata": {},
   "outputs": [
    {
     "name": "stdout",
     "output_type": "stream",
     "text": [
      "[[1.76305742e+02 7.66985266e+00 2.25815564e+02 ... 8.71818345e-01\n",
      "  4.54342507e-01 4.66580230e+02]\n",
      " [1.79696025e+02 4.83956055e+00 2.26211045e+02 ... 8.70721098e-01\n",
      "  6.76300240e-01 4.67166716e+02]\n",
      " [1.78871946e+02 7.33923752e+00 2.26625985e+02 ... 1.01515138e+00\n",
      "  4.61356978e-01 4.59743691e+02]\n",
      " ...\n",
      " [1.78930039e+02 7.43736892e+00 2.26442717e+02 ... 7.12196940e-01\n",
      "  9.15512554e-01 4.68073023e+02]\n",
      " [1.78428963e+02 6.26779047e+00 2.25789888e+02 ... 7.25258262e-01\n",
      "  9.84211461e-01 4.65704097e+02]\n",
      " [1.75386923e+02 5.95185115e+00 2.25803147e+02 ... 6.09211417e-01\n",
      "  1.04008394e+00 4.68475093e+02]]\n",
      "[[0.38830568 0.94431827 0.50367147 ... 0.43452283 0.87705539 0.14744074]\n",
      " [0.2624671  0.93789369 0.48591543 ... 0.56833083 0.84268795 0.14021375]\n",
      " [0.29853713 0.94670194 0.456087   ... 0.59082164 0.82686099 0.14749105]\n",
      " ...\n",
      " [0.42038174 0.94161944 0.44582263 ... 0.55809765 0.86891094 0.14993492]\n",
      " [0.34942815 0.90723692 0.5556579  ... 0.47374883 0.85251505 0.12991465]\n",
      " [0.33683878 0.95005632 0.48293784 ... 0.45667814 0.84761856 0.13944199]]\n",
      "[0.86939883 0.87350287 0.89601097 0.90336852 0.89941218 0.91079188\n",
      " 0.89029346 0.88522771 0.90478647 0.90350353 0.88776585 0.90816353\n",
      " 0.90019029 0.88864267 0.88564028 0.89100398 0.90265678 0.88322108\n",
      " 0.88580648 0.9045923  0.89915349 0.9200875  0.90483764 0.90290673\n",
      " 0.90355907 0.91633704 0.9142449  0.8753501  0.88266408 0.89712919\n",
      " 0.90703487 0.91335926 0.90789648 0.90366056 0.91513209 0.90658016\n",
      " 0.89180713 0.89293201 0.89569423 0.88975449 0.89337681 0.90020919\n",
      " 0.88852814 0.90758546 0.89425747 0.90227281 0.90618397 0.90354841\n",
      " 0.88879202 0.88828913 0.9124292  0.90807555 0.90803038 0.89944389\n",
      " 0.89698887 0.8978216  0.90726195 0.890901   0.87147498 0.91078077\n",
      " 0.8896478  0.88879429 0.90599301 0.90706922 0.89986486 0.88911611\n",
      " 0.88359387 0.89792973 0.89518514 0.89852979 0.90365583 0.90219366\n",
      " 0.91883343 0.8888713  0.87730669 0.89701769 0.89283948 0.88766425\n",
      " 0.88323786 0.88817311 0.89863478 0.87408533 0.89973389 0.87406497\n",
      " 0.89131595 0.89243505 0.896913   0.89135225 0.90377518 0.90001364\n",
      " 0.92616286 0.90244089 0.87949041 0.87903982 0.88228564 0.89201396\n",
      " 0.87517912 0.8970011  0.91117049 0.88824446 0.88808749 0.90305734\n",
      " 0.91233021 0.88510674 0.91357042 0.90157048 0.88130381 0.88024733\n",
      " 0.89228555 0.87594495 0.90754255 0.89791051 0.89364859 0.89559188\n",
      " 0.89989538 0.90890392 0.90297076 0.88261819 0.88038018 0.89398368\n",
      " 0.89491671 0.88963366 0.89645227 0.91017462 0.89680674 0.91269996\n",
      " 0.87827267 0.89857278 0.87808662 0.89312409 0.88769883 0.9106094\n",
      " 0.90285467 0.87443039 0.89847395]\n",
      "[0.90852465 0.9203209  0.92050656 0.95503729 0.93814333 0.95569449\n",
      " 0.91777113 0.94421508 0.94704223 0.94578648 0.90545338 0.96761888\n",
      " 0.94954787 0.94334177 0.9473921  0.93736542 0.93378073 0.92306045\n",
      " 0.93877201 0.95174609 0.94204151 0.95471324 0.95265887 0.95109039\n",
      " 0.94010467 0.9687139  0.96640672 0.94437898 0.94746954 0.93951445\n",
      " 0.94139843 0.93953072 0.95357405 0.95555738 0.97762255 0.948129\n",
      " 0.94247588 0.94959534 0.93335077 0.9530807  0.94456778 0.93478455\n",
      " 0.94510542 0.95621653 0.93904569 0.93548855 0.95907917 0.95572293\n",
      " 0.94071969 0.9369503  0.97205622 0.96468483 0.96874735 0.95899019\n",
      " 0.94298056 0.9660623  0.96162854 0.95372672 0.94641802 0.9594086\n",
      " 0.93253276 0.9290447  0.95715689 0.95087006 0.94292382 0.93530884\n",
      " 0.94266331 0.94443807 0.94955696 0.96046376 0.97284983 0.96652196\n",
      " 0.94761054 0.94726311 0.95452275 0.96254113 0.96077514 0.93272953\n",
      " 0.93183041 0.94919482 0.93248005 0.92733914 0.96060046 0.95038881\n",
      " 0.94925782 0.94123251 0.93369686 0.94877435 0.97916075 0.9592718\n",
      " 0.97796635 0.93801191 0.93591902 0.93936328 0.9336911  0.9373533\n",
      " 0.93649569 0.95526792 0.97559029 0.93594676 0.94304464 0.94589664\n",
      " 0.95094488 0.94492008 0.97360895 0.9491938  0.93789899 0.94507565\n",
      " 0.940073   0.94780584 0.96387902 0.95708606 0.95886068 0.93708599\n",
      " 0.94018631 0.94864314 0.94187149 0.9318485  0.95556157 0.96798422\n",
      " 0.94146069 0.93210934 0.96064621 0.96568891 0.95338691 0.96517596\n",
      " 0.93923389 0.95365838 0.91820202 0.9661878  0.9439624  0.94163797\n",
      " 0.96588904 0.94204046 0.9608499 ]\n",
      "[0.22130641 0.19254585 0.2050991  0.21398278 0.22012653 0.20510281\n",
      " 0.17755795 0.23134553 0.22634151 0.19298142 0.20334598 0.20321717\n",
      " 0.22281127 0.19199184 0.20889058 0.19159621 0.1989393  0.20194188\n",
      " 0.20921797 0.19947157 0.22589707 0.18763748 0.22115959 0.19280162\n",
      " 0.20876248 0.21203235 0.20695081 0.20284854 0.19452599 0.20165053\n",
      " 0.21499864 0.20848996 0.18390392 0.18636342 0.2066914  0.21712761\n",
      " 0.19470436 0.21092731 0.22932179 0.22555073 0.20155708 0.21177185\n",
      " 0.18209161 0.20703052 0.19193366 0.18566431 0.20789511 0.21562491\n",
      " 0.17187123 0.19534792 0.19395088 0.22114905 0.21596695 0.197411\n",
      " 0.20639968 0.19634435 0.21284019 0.22307695 0.21145927 0.20541256\n",
      " 0.17248611 0.22129106 0.19365621 0.18724527 0.20038691 0.18786445\n",
      " 0.2093374  0.20910731 0.19448929 0.19041959 0.20717446 0.21053206\n",
      " 0.20438052 0.2132641  0.18037011 0.23238681 0.19801692 0.21415881\n",
      " 0.20941916 0.20309422 0.24308835 0.19485319 0.20077456 0.20722198\n",
      " 0.20127874 0.18483076 0.22009617 0.19140631 0.19555831 0.19383308\n",
      " 0.20582419 0.19462991 0.2084631  0.19755616 0.19688064 0.19024924\n",
      " 0.2137686  0.21848723 0.19809566 0.18023256 0.2044284  0.20775912\n",
      " 0.19823256 0.20550802 0.18785732 0.20491746 0.19174057 0.21322799\n",
      " 0.20806664 0.18045618 0.20520171 0.21070725 0.22323972 0.20242498\n",
      " 0.20148082 0.19275306 0.20366106 0.21182306 0.19434082 0.19896157\n",
      " 0.19424238 0.22600344 0.1935719  0.21674684 0.19966354 0.19919672\n",
      " 0.20609912 0.20365286 0.18360133 0.2109255  0.19831525 0.22286564\n",
      " 0.20828602 0.20241637 0.20376748]\n",
      "[0.00057178 0.000449   0.0005257  0.00054158 0.00048525 0.0005952\n",
      " 0.00045902 0.00059946 0.00061902 0.00048391 0.00054561 0.00044499\n",
      " 0.00058811 0.00042065 0.00049245 0.00046243 0.00048759 0.0004862\n",
      " 0.00058345 0.00046259 0.00066276 0.00052366 0.00059323 0.00048482\n",
      " 0.0005091  0.00054462 0.00052471 0.00053016 0.00046306 0.00046265\n",
      " 0.00053791 0.00058682 0.00044682 0.00039871 0.00049666 0.00055035\n",
      " 0.00051254 0.00052432 0.00056458 0.0005858  0.00054469 0.0005285\n",
      " 0.00040105 0.00051202 0.00050807 0.00038484 0.0004885  0.00048939\n",
      " 0.00041374 0.00049987 0.00049216 0.00053676 0.00056816 0.00051954\n",
      " 0.00057219 0.00047966 0.00053286 0.00053999 0.00054087 0.00056103\n",
      " 0.00039667 0.00056449 0.00044735 0.00051665 0.00045049 0.00049849\n",
      " 0.00056157 0.00057926 0.00041751 0.00050857 0.00050169 0.00048466\n",
      " 0.00052893 0.00052014 0.00047092 0.00054307 0.00048462 0.00053832\n",
      " 0.00053532 0.00047213 0.00061794 0.00049863 0.00047441 0.00052152\n",
      " 0.00045179 0.00041959 0.00057348 0.00044742 0.00043484 0.00040205\n",
      " 0.00045628 0.00043351 0.00052946 0.0004461  0.00046909 0.00043877\n",
      " 0.00059077 0.00060053 0.00043198 0.00047102 0.00051229 0.00051086\n",
      " 0.00049313 0.00042718 0.00044223 0.00056667 0.00051147 0.00059859\n",
      " 0.00046001 0.00039924 0.00045992 0.00050356 0.00047855 0.00056316\n",
      " 0.00056253 0.00054382 0.00046641 0.00048943 0.0004321  0.00049324\n",
      " 0.00042895 0.00055383 0.00051854 0.000529   0.00051114 0.0004751\n",
      " 0.00044906 0.0004534  0.00041005 0.00048518 0.0004761  0.00054172\n",
      " 0.0004669  0.00055801 0.00057484]\n"
     ]
    }
   ],
   "source": [
    "mu_values = np.load('mu_values.npy')\n",
    "p_values = np.load('p_values.npy')\n",
    "alpha_p_values = np.load('alpha_p_values.npy')\n",
    "beta_p_values = np.load('beta_p_values.npy')\n",
    "alpha_mu_values = np.load('alpha_mu_values.npy')\n",
    "beta_mu_values = np.load('beta_mu_values.npy')\n",
    "\n",
    "# Print to confirm\n",
    "print(mu_values)\n",
    "print(p_values)\n",
    "print(alpha_p_values)\n",
    "print(beta_p_values)\n",
    "print(alpha_mu_values)\n",
    "print(beta_mu_values)\n"
   ]
  },
  {
   "cell_type": "markdown",
   "metadata": {},
   "source": [
    "# Plotting Results for all Parameters"
   ]
  },
  {
   "cell_type": "code",
   "execution_count": 10,
   "metadata": {},
   "outputs": [
    {
     "data": {
      "image/png": "[encoded data removed]",
      "text/plain": [
       "<Figure size 1000x1000 with 6 Axes>"
      ]
     },
     "metadata": {},
     "output_type": "display_data"
    }
   ],
   "source": [
    "fig, axs = plt.subplots(3, 2, figsize=(10, 10))\n",
    "axs[0, 0].hist(mu, 100)\n",
    "axs[0, 0].set_title(\"Mu_g Values\")\n",
    "axs[0, 1].hist(p, 100)\n",
    "axs[0, 1].set_title(\"P_g values\")\n",
    "axs[1, 0].hist(alpha_p_values, 100)\n",
    "axs[1, 0].set_title(\"Alpha_p Parameters for Beta Distribution\")\n",
    "axs[1, 1].hist(beta_p_values, 100)\n",
    "axs[1, 1].set_title(\"Beta_p Parameters for Beta Distribution\")\n",
    "axs[2, 0].hist(alpha_mu_values, 100)\n",
    "axs[2, 0].set_title(\"Alpha_mu Parameters for Gamma Distribution\")\n",
    "axs[2, 1].hist(beta_mu_values, 100)\n",
    "axs[2, 1].set_title(\"Beta_mu Parameters for Gamma Distribution\")\n",
    "plt.tight_layout()\n",
    "plt.show()"
   ]
  },
  {
   "cell_type": "code",
   "execution_count": 11,
   "metadata": {},
   "outputs": [
    {
     "name": "stdout",
     "output_type": "stream",
     "text": [
      "Mean of mu: 331.79179092291145\n",
      "Mean of p: 0.48463125040235244\n",
      "Mean of alpha_p: 0.896007255569206\n",
      "Mean of beta_p: 0.9477416134077091\n",
      "Mean of alpha_mu: 0.20368378183860097\n",
      "Mean of beta_mu: 0.0005036842122354761\n"
     ]
    }
   ],
   "source": [
    "print(f\"Mean of mu: {np.mean(mu_values)}\")\n",
    "print(f\"Mean of p: {np.mean(p_values)}\")\n",
    "print(f\"Mean of alpha_p: {np.mean(alpha_p_values)}\")\n",
    "print(f\"Mean of beta_p: {np.mean(beta_p_values)}\")\n",
    "print(f\"Mean of alpha_mu: {np.mean(alpha_mu_values)}\")\n",
    "print(f\"Mean of beta_mu: {np.mean(beta_mu_values)}\")"
   ]
  },
  {
   "cell_type": "code",
   "execution_count": 12,
   "metadata": {},
   "outputs": [
    {
     "name": "stdout",
     "output_type": "stream",
     "text": [
      "Standard Deviation of alpha_p: 0.011504760565142196\n",
      "Standard Deviation of beta_p: 0.013835423245878649\n",
      "Standard Deviation of alpha_mu: 0.012808699323149765\n",
      "Standard Deviation of beta_mu: 5.6030235007859415e-05\n"
     ]
    }
   ],
   "source": [
    "print(f\"Standard Deviation of alpha_p: {np.std(alpha_p_values)}\")\n",
    "print(f\"Standard Deviation of beta_p: {np.std(beta_p_values)}\")\n",
    "print(f\"Standard Deviation of alpha_mu: {np.std(alpha_mu_values)}\")\n",
    "print(f\"Standard Deviation of beta_mu: {np.std(beta_mu_values)}\")"
   ]
  },
  {
   "cell_type": "markdown",
   "metadata": {},
   "source": [
    "# Checking for Convergence"
   ]
  },
  {
   "cell_type": "markdown",
   "metadata": {},
   "source": [
    "# Full Data"
   ]
  },
  {
   "cell_type": "code",
   "execution_count": 23,
   "metadata": {},
   "outputs": [
    {
     "name": "stdout",
     "output_type": "stream",
     "text": [
      "The model's prediction for the mean is: 331.7289119096741\n",
      "The model's prediction for the zero probability is: 0.48308969089057485\n",
      "332.0669784961449\n",
      "0.4643564038679693\n",
      "Convergence likely achieved.\n",
      "Predictive Mean Difference: 0.3380665864708021, Predictive Zero Probability Difference: 0.01873328702260557\n"
     ]
    }
   ],
   "source": [
    "initial_data_mean = data_count.mean().mean()\n",
    "\n",
    "initial_zero_probability = (data_count == 0).mean().mean()\n",
    "\n",
    "def compute_posterior_predictive_stats(p, mu):\n",
    "    predictive_mean = np.mean(mu)\n",
    "    predictive_zero_prob = np.mean(p)\n",
    "    return predictive_mean, predictive_zero_prob\n",
    "\n",
    "def check_convergence(p, mu, data_count, initial_data_mean, initial_zero_probability, tolerance_mean = 30, tolerance_prob=0.1):\n",
    "    predictive_mean, predictive_zero_prob = compute_posterior_predictive_stats(p, mu)\n",
    "    mean_diff = abs(predictive_mean - initial_data_mean)\n",
    "    zero_prob_diff = abs(predictive_zero_prob - initial_zero_probability)\n",
    "    print(f\"The model's prediction for the mean is: {predictive_mean}\")\n",
    "    print(f\"The model's prediction for the zero probability is: {predictive_zero_prob}\")\n",
    "    print(initial_data_mean)\n",
    "    print(initial_zero_probability)\n",
    "    if mean_diff < tolerance_mean and zero_prob_diff < tolerance_prob:\n",
    "        print(\"Convergence likely achieved.\")\n",
    "        print(f\"Predictive Mean Difference: {mean_diff}, Predictive Zero Probability Difference: {zero_prob_diff}\")\n",
    "    else:\n",
    "        print(\"Convergence not yet achieved.\")\n",
    "        print(f\"Predictive Mean Difference: {mean_diff}, Predictive Zero Probability Difference: {zero_prob_diff}\")\n",
    "\n",
    "check_convergence(p, mu, data_count, initial_data_mean, initial_zero_probability)"
   ]
  },
  {
   "cell_type": "markdown",
   "metadata": {},
   "source": [
    "# Blast data"
   ]
  },
  {
   "cell_type": "code",
   "execution_count": 13,
   "metadata": {},
   "outputs": [
    {
     "name": "stdout",
     "output_type": "stream",
     "text": [
      "The model's prediction for the mean is: 252.44550788066954\n",
      "The model's prediction for the zero probability is: 0.4963476372485461\n",
      "253.64257800900356\n",
      "0.4962412613946663\n",
      "Convergence likely achieved.\n",
      "Predictive Mean Difference: 1.197070128334019, Predictive Zero Probability Difference: 0.00010637585387979209\n"
     ]
    }
   ],
   "source": [
    "G = data_count.shape[0]\n",
    "N0 = blast_counts.shape[1]\n",
    "\n",
    "# Initial data mean\n",
    "initial_data_mean = blast_counts.mean().mean()\n",
    "\n",
    "# Probability that the data is 0\n",
    "initial_zero_probability = (blast_counts == 0).mean().mean()\n",
    "\n",
    "def compute_posterior_predictive_stats(p, mu):\n",
    "    predictive_mean = np.mean(mu * (1 - p))\n",
    "    predictive_zero_prob = np.mean(p + (1 - p) * np.exp(-mu))\n",
    "    return predictive_mean, predictive_zero_prob\n",
    "\n",
    "def check_convergence(p, mu, data_count, initial_data_mean, initial_zero_probability, tolerance_mean = 30, tolerance_prob=0.01):\n",
    "    predictive_mean, predictive_zero_prob = compute_posterior_predictive_stats(p, mu)\n",
    "    mean_diff = abs(predictive_mean - initial_data_mean)\n",
    "    zero_prob_diff = abs(predictive_zero_prob - initial_zero_probability)\n",
    "    print(f\"The model's prediction for the mean is: {predictive_mean}\")\n",
    "    print(f\"The model's prediction for the zero probability is: {predictive_zero_prob}\")\n",
    "    print(initial_data_mean)\n",
    "    print(initial_zero_probability)\n",
    "    if mean_diff < tolerance_mean and zero_prob_diff < tolerance_prob:\n",
    "        print(\"Convergence likely achieved.\")\n",
    "        print(f\"Predictive Mean Difference: {mean_diff}, Predictive Zero Probability Difference: {zero_prob_diff}\")\n",
    "    else:\n",
    "        print(\"Convergence not yet achieved.\")\n",
    "        print(f\"Predictive Mean Difference: {mean_diff}, Predictive Zero Probability Difference: {zero_prob_diff}\")\n",
    "\n",
    "check_convergence(p, mu, data_count, initial_data_mean, initial_zero_probability)"
   ]
  }
 ],
 "metadata": {
  "kernelspec": {
   "display_name": "New",
   "language": "python",
   "name": "python3"
  },
  "language_info": {
   "codemirror_mode": {
    "name": "ipython",
    "version": 3
   },
   "file_extension": ".py",
   "mimetype": "text/x-python",
   "name": "python",
   "nbconvert_exporter": "python",
   "pygments_lexer": "ipython3",
   "version": "3.11.5"
  }
 },
 "nbformat": 4,
 "nbformat_minor": 2
}
