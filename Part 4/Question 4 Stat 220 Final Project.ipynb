{
 "cells": [
  {
   "cell_type": "code",
   "execution_count": 1,
   "metadata": {},
   "outputs": [],
   "source": [
    "import pandas as pd\n",
    "import numpy as np\n",
    "from scipy.stats import poisson"
   ]
  },
  {
   "cell_type": "code",
   "execution_count": 2,
   "metadata": {},
   "outputs": [],
   "source": [
    "data_count = pd.read_csv(\"Deng_count.csv\", index_col=0)\n",
    "data_type = pd.read_csv(\"Deng_celltype.csv\", index_col=0)\n",
    "blast_cells = data_type[data_type['cell_type1'] == 'blast']\n",
    "blast_counts = data_count.loc[:, blast_cells.index]\n",
    "X = np.array(blast_counts.copy())"
   ]
  },
  {
   "cell_type": "code",
   "execution_count": 3,
   "metadata": {},
   "outputs": [],
   "source": [
    "mu_values_1 = np.load('data/question1/mu_values.npy')\n",
    "p_values_1 = np.load('data/question1/p_values.npy')\n",
    "alpha_mu_values_1 = np.load('data/question1/alpha_mu_values.npy') \n",
    "beta_mu_values_1 = np.load('data/question1/beta_mu_values.npy')\n",
    "alpha_p_values_1 = np.load('data/question1/alpha_p_values.npy')\n",
    "beta_p_values_1 = np.load('data/question1/beta_p_values.npy')\n",
    "# # print(mu_values_1)\n",
    "# # print(p_values_1)\n",
    "# # print(alpha_mu_values_1)\n",
    "# # print(beta_mu_values_1)\n",
    "# # print(alpha_p_values_1)\n",
    "# # print(beta_p_values_1)\n",
    "\n",
    "mu_values_2 = np.load('data/question2/mu_values.npy')\n",
    "p_values_2 = np.load('data/question2/p_values.npy')\n",
    "alpha_mu_values_2 = np.load('data/question2/alpha_mu_values.npy') \n",
    "beta_mu_values_2 = np.load('data/question2/beta_mu_values.npy')\n",
    "gamma_values_2 = np.load('data/question2/gamma_values.npy')\n",
    "beta_values_2 = np.load('data/question2/beta_values.npy')\n",
    "# # print(mu_values_2)\n",
    "# # print(p_values_2)\n",
    "# # print(alpha_mu_values_2)\n",
    "# # print(beta_mu_values_2)\n",
    "# # print(gamma_values_2)\n",
    "# # print(beta_values_2)\n",
    "\n",
    "\n",
    "mu_values_3 = np.load('data/question3/mu_values.npy')\n",
    "individual_mu_values_3 = np.load('data/question3/individual_mu_values.npy')\n",
    "p_values_3 = np.load('data/question3/p_values.npy')\n",
    "alpha_mu_values_3 = np.load('data/question3/alpha_mu_values.npy') \n",
    "beta_mu_values_3 = np.load('data/question3/beta_mu_values.npy')\n",
    "alpha_p_values_3 = np.load('data/question3/alpha_p_values.npy')\n",
    "beta_p_values_3 = np.load('data/question3/beta_p_values.npy')\n",
    "alpha_g_values_3 = np.load('data/question3/alpha_g_values.npy')\n",
    "\n",
    "# # print(mu_values_3) \n",
    "# # print(individual_mu_values_3) \n",
    "# # print(p_values_3) \n",
    "# # print(alpha_mu_values_3)  \n",
    "# # print(beta_mu_values_3)\n",
    "# # print(alpha_p_values_3) \n",
    "# # print(beta_p_values_3)\n",
    "# # print(alpha_g_values_3)\n"
   ]
  },
  {
   "cell_type": "code",
   "execution_count": 4,
   "metadata": {},
   "outputs": [
    {
     "name": "stdout",
     "output_type": "stream",
     "text": [
      "mu_values_1 shape: (135, 11394)\n",
      "p_values_1 shape: (135, 11394)\n",
      "alpha_mu_values_1 shape: (135,)\n",
      "beta_mu_values_1 shape: (135,)\n",
      "alpha_p_values_1 shape: (135,)\n",
      "beta_p_values_1 shape: (135,)\n"
     ]
    }
   ],
   "source": [
    "print(\"mu_values_1 shape:\", mu_values_1.shape)\n",
    "print(\"p_values_1 shape:\", p_values_1.shape)\n",
    "print(\"alpha_mu_values_1 shape:\", alpha_mu_values_1.shape)\n",
    "print(\"beta_mu_values_1 shape:\", beta_mu_values_1.shape)\n",
    "print(\"alpha_p_values_1 shape:\", alpha_p_values_1.shape)\n",
    "print(\"beta_p_values_1 shape:\", beta_p_values_1.shape)"
   ]
  },
  {
   "cell_type": "code",
   "execution_count": 5,
   "metadata": {},
   "outputs": [],
   "source": [
    "def calculate_mode(arr):\n",
    "    bin_size = (arr.max() - arr.min()) / 100\n",
    "    counts, bin_edges = np.histogram(arr, bins=np.arange(arr.min(), arr.max() + bin_size, bin_size))\n",
    "    max_index = np.argmax(counts)\n",
    "    mode = (bin_edges[max_index] + bin_edges[max_index + 1]) / 2\n",
    "    return mode"
   ]
  },
  {
   "cell_type": "code",
   "execution_count": 6,
   "metadata": {},
   "outputs": [
    {
     "name": "stdout",
     "output_type": "stream",
     "text": [
      "Modes for mu_values_1: [179.82013011   5.22903299 225.82383886 ...   0.82767191   0.6810645\n",
      " 466.60482265]\n",
      "Modes for p_values_1: [0.29948366 0.94174195 0.44912848 ... 0.56817232 0.84664652 0.13894869]\n"
     ]
    }
   ],
   "source": [
    "mu_modes_1 = np.zeros(mu_values_1.shape[1])\n",
    "p_modes_1 = np.zeros(p_values_1.shape[1])\n",
    "\n",
    "for i in range(mu_values_1.shape[1]):\n",
    "    mu_modes_1[i] = calculate_mode(mu_values_1[:, i])\n",
    "\n",
    "for i in range(p_values_1.shape[1]):\n",
    "    p_modes_1[i] = calculate_mode(p_values_1[:, i])\n",
    "\n",
    "# Optionally, print or save the mode values\n",
    "print(\"Modes for mu_values_1:\", mu_modes_1)\n",
    "print(\"Modes for p_values_1:\", p_modes_1)"
   ]
  },
  {
   "cell_type": "code",
   "execution_count": 7,
   "metadata": {},
   "outputs": [
    {
     "name": "stdout",
     "output_type": "stream",
     "text": [
      "1543665318.2999508\n"
     ]
    }
   ],
   "source": [
    "def BIC_1(X, mu, p):\n",
    "    log_likelihood = 0\n",
    "    for i in range(X.shape[0]):\n",
    "        for g in range(X.shape[1]):\n",
    "            if X[i, g] == 0:\n",
    "                log_likelihood += np.log(p[g] + (1 - p[g]) * np.exp(-mu[g]))\n",
    "            else:\n",
    "                log_likelihood += np.log(1 - p[g]) + poisson.logpmf(X[i, g], mu[g])\n",
    "\n",
    "    k = mu.size + p.size + 4\n",
    "\n",
    "    # BIC calculation\n",
    "    return -2 * log_likelihood + k * np.log(X.size)\n",
    "\n",
    "print(BIC_1(X, mu_modes_1, p_modes_1))"
   ]
  },
  {
   "cell_type": "code",
   "execution_count": 8,
   "metadata": {},
   "outputs": [
    {
     "name": "stdout",
     "output_type": "stream",
     "text": [
      "Modes for mu_values_2: [1.79051227e+02 6.29849452e+00 2.25157064e+02 ... 6.46204120e-01\n",
      " 1.58629982e-01 4.68280732e+02]\n",
      "Modes for p_values_2: [0.00811243 0.99500459 0.00768125 ... 0.99522829 0.99533898 0.00667777]\n",
      "Modes for gamma_values_2: 3.942803296727601\n",
      "Modes for beta_values_2: -0.5905555253978967\n"
     ]
    }
   ],
   "source": [
    "mu_modes_2 = np.zeros(mu_values_2.shape[1])\n",
    "p_modes_2 = np.zeros(p_values_2.shape[1])\n",
    "gamma_modes_2 = np.zeros(gamma_values_2.shape[0])\n",
    "beta_modes_2 = np.zeros(beta_values_2.shape[0])\n",
    "\n",
    "\n",
    "for i in range(mu_values_2.shape[1]):\n",
    "    mu_modes_2[i] = calculate_mode(mu_values_2[:, i])\n",
    "\n",
    "for i in range(p_values_2.shape[1]):\n",
    "    p_modes_2[i] = calculate_mode(p_values_2[:, i])\n",
    "\n",
    "gamma_modes_2 = calculate_mode(gamma_values_2)\n",
    "beta_modes_2 = calculate_mode(beta_values_2)\n",
    "print(\"Modes for mu_values_2:\", mu_modes_2)\n",
    "print(\"Modes for p_values_2:\", p_modes_2)\n",
    "print(\"Modes for gamma_values_2:\", gamma_modes_2)\n",
    "print(\"Modes for beta_values_2:\", beta_modes_2)"
   ]
  },
  {
   "cell_type": "code",
   "execution_count": 9,
   "metadata": {},
   "outputs": [
    {
     "name": "stdout",
     "output_type": "stream",
     "text": [
      "1550614344.1874006\n"
     ]
    }
   ],
   "source": [
    "def BIC_2(X, mu, gamma, beta):\n",
    "    def get_p(mu_g):\n",
    "        return 1 / (1 + np.exp(-gamma - beta * np.log(mu_g)))\n",
    "\n",
    "    log_likelihood = 0\n",
    "    for i in range(X.shape[0]):\n",
    "        for g in range(X.shape[1]):\n",
    "            p_mu_g = get_p(mu[g])\n",
    "            if X[i, g] == 0:\n",
    "                log_likelihood += np.log(p_mu_g + (1 - p_mu_g) * np.exp(-mu[g]))\n",
    "            else:\n",
    "                log_likelihood += np.log(1 - p_mu_g) + poisson.logpmf(X[i, g], mu[g])\n",
    "\n",
    "    k = mu.size + 1 + 1  \n",
    "    return -2 * log_likelihood + k * np.log(X.size)\n",
    "\n",
    "print(BIC_2(X, mu_modes_2, gamma_modes_2, beta_modes_2))"
   ]
  },
  {
   "cell_type": "code",
   "execution_count": 10,
   "metadata": {},
   "outputs": [
    {
     "name": "stdout",
     "output_type": "stream",
     "text": [
      "mu_values_3 shape: (85, 11394)\n",
      "individual_mu_values_3 shape: (85, 11394, 133)\n",
      "p_values_3 shape: (85, 11394)\n",
      "alpha_mu_values_3 shape: (85,)\n",
      "beta_mu_values_3 shape: (85,)\n",
      "alpha_p_values_3 shape: (85,)\n",
      "beta_p_values_3 shape: (85,)\n",
      "alpha_g_values_3 shape: (85, 11394)\n"
     ]
    }
   ],
   "source": [
    "print(\"mu_values_3 shape:\", mu_values_3.shape)\n",
    "print(\"individual_mu_values_3 shape:\", individual_mu_values_3.shape)\n",
    "print(\"p_values_3 shape:\", p_values_3.shape)\n",
    "print(\"alpha_mu_values_3 shape:\", alpha_mu_values_3.shape)\n",
    "print(\"beta_mu_values_3 shape:\", beta_mu_values_3.shape)\n",
    "print(\"alpha_p_values_3 shape:\", alpha_p_values_3.shape)\n",
    "print(\"beta_p_values_3 shape:\", beta_p_values_3.shape)\n",
    "print(\"alpha_g_values_3 shape:\", alpha_g_values_3.shape)"
   ]
  },
  {
   "cell_type": "code",
   "execution_count": 11,
   "metadata": {},
   "outputs": [
    {
     "name": "stdout",
     "output_type": "stream",
     "text": [
      "Modes for mu_values_3: [850.66215096 855.47634977 616.9518339  ... 850.80277332 639.16548279\n",
      " 867.33556276]\n",
      "Modes for individual_mu_values_3: [16983.85403878  5454.42478128 18421.73468411 ...  3278.52041014\n",
      "  5151.6618916  53330.44575436]\n",
      "Modes for p_values_3: [0.34662432 0.94113656 0.43813499 ... 0.70697104 0.91847965 0.12906144]\n",
      "Modes for alpha_g_values_3: [0.08976621 0.08438288 0.08186831 ... 0.08174683 0.08815528 0.08833134]\n",
      "Mode for alpha_mu_values_3: 0.010474811705782442\n",
      "Mode for beta_mu_values_3: 0.010474811705782442\n",
      "Mode for alpha_p_values_3: 0.8759622145817301\n",
      "Mode for beta_p_values_3: 0.866157118241386\n"
     ]
    }
   ],
   "source": [
    "mu_modes_3 = np.zeros(mu_values_3.shape[1])\n",
    "p_modes_3 = np.zeros(p_values_3.shape[1])\n",
    "alpha_g_modes_3 = np.zeros(alpha_g_values_3.shape[1])\n",
    "\n",
    "for i in range(mu_values_3.shape[1]):\n",
    "    mu_modes_3[i] = calculate_mode(mu_values_3[:, i])\n",
    "\n",
    "for i in range(p_values_3.shape[1]):\n",
    "    p_modes_3[i] = calculate_mode(p_values_3[:, i])\n",
    "\n",
    "for i in range(alpha_g_values_3.shape[1]):\n",
    "    alpha_g_modes_3[i] = calculate_mode(alpha_g_values_3[:, i])\n",
    "\n",
    "individual_mu_modes_3 = np.zeros((individual_mu_values_3.shape[1], individual_mu_values_3.shape[2]))\n",
    "for j in range(individual_mu_values_3.shape[1]):\n",
    "    for k in range(individual_mu_values_3.shape[2]):\n",
    "        individual_mu_modes_3[j, k] = calculate_mode(individual_mu_values_3[:, j, k])\n",
    "individual_mu_modes_3 = np.sum(individual_mu_modes_3, axis = 1)\n",
    "# Modes for vector parameters\n",
    "alpha_mu_mode_3 = calculate_mode(alpha_mu_values_3)\n",
    "beta_mu_mode_3 = calculate_mode(beta_mu_values_3)\n",
    "alpha_p_mode_3 = calculate_mode(alpha_p_values_3)\n",
    "beta_p_mode_3 = calculate_mode(beta_p_values_3)\n",
    "\n",
    "# Print the calculated modes\n",
    "print(\"Modes for mu_values_3:\", mu_modes_3)\n",
    "print(\"Modes for individual_mu_values_3:\", individual_mu_modes_3)\n",
    "print(\"Modes for p_values_3:\", p_modes_3)\n",
    "print(\"Modes for alpha_g_values_3:\", alpha_g_modes_3)\n",
    "print(\"Mode for alpha_mu_values_3:\", alpha_mu_mode_3)\n",
    "print(\"Mode for beta_mu_values_3:\", beta_mu_mode_3)\n",
    "print(\"Mode for alpha_p_values_3:\", alpha_p_mode_3)\n",
    "print(\"Mode for beta_p_values_3:\", beta_p_mode_3)"
   ]
  },
  {
   "cell_type": "code",
   "execution_count": 12,
   "metadata": {},
   "outputs": [
    {
     "name": "stdout",
     "output_type": "stream",
     "text": [
      "60229176624.32721\n"
     ]
    }
   ],
   "source": [
    "import numpy as np\n",
    "from scipy.stats import poisson\n",
    "\n",
    "def BIC_3(X, mu, p):\n",
    "    log_likelihood = 0\n",
    "    for g in range(X.shape[1]):  \n",
    "        for i in range(X.shape[0]):  \n",
    "            if X[i, g] == 0:\n",
    "                log_likelihood += np.log(p[i] + (1 - p[i]) * np.exp(-mu[g]))\n",
    "            else:\n",
    "                log_likelihood += np.log(1 - p[i]) + poisson.logpmf(X[i, g], mu[g])\n",
    "\n",
    "    k = mu.size + p.size + 4 \n",
    "    return -2 * log_likelihood + k * np.log(X.size)\n",
    "\n",
    "print(BIC_3(X, individual_mu_modes_3, p_modes_3))\n"
   ]
  },
  {
   "cell_type": "code",
   "execution_count": 13,
   "metadata": {},
   "outputs": [
    {
     "name": "stdout",
     "output_type": "stream",
     "text": [
      "The BIC for Model 1 is: 1543665318.2999508\n",
      "The BIC for Model 2 is: 1550614344.1874006\n",
      "The BIC for Model 3 is: 60229176624.32721\n"
     ]
    }
   ],
   "source": [
    "BIC1 = BIC_1(X, mu_modes_1, p_modes_1)\n",
    "BIC2 = BIC_2(X, mu_modes_2, gamma_modes_2, beta_modes_2)\n",
    "BIC3 = BIC_3(X, individual_mu_modes_3, p_modes_3)\n",
    "\n",
    "\n",
    "print(f\"The BIC for Model 1 is: {BIC1}\")\n",
    "print(f\"The BIC for Model 2 is: {BIC2}\")\n",
    "print(f\"The BIC for Model 3 is: {BIC3}\")"
   ]
  }
 ],
 "metadata": {
  "kernelspec": {
   "display_name": "base",
   "language": "python",
   "name": "python3"
  },
  "language_info": {
   "codemirror_mode": {
    "name": "ipython",
    "version": 3
   },
   "file_extension": ".py",
   "mimetype": "text/x-python",
   "name": "python",
   "nbconvert_exporter": "python",
   "pygments_lexer": "ipython3",
   "version": "3.11.5"
  }
 },
 "nbformat": 4,
 "nbformat_minor": 2
}
